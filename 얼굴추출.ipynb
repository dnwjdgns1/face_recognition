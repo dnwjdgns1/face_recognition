{
 "cells": [
  {
   "cell_type": "code",
   "execution_count": 48,
   "metadata": {},
   "outputs": [],
   "source": [
    "import cv2\n",
    "import numpy as np\n",
    "import os"
   ]
  },
  {
   "cell_type": "code",
   "execution_count": 49,
   "metadata": {},
   "outputs": [],
   "source": [
    "path_dir = \"C:/Users/dgd56/anaconda/ee/photo/add\"\n",
    "file_list = os.listdir(path_dir)"
   ]
  },
  {
   "cell_type": "code",
   "execution_count": 50,
   "metadata": {},
   "outputs": [
    {
     "data": {
      "text/plain": [
       "33"
      ]
     },
     "execution_count": 50,
     "metadata": {},
     "output_type": "execute_result"
    }
   ],
   "source": [
    "len(file_list)"
   ]
  },
  {
   "cell_type": "code",
   "execution_count": 51,
   "metadata": {},
   "outputs": [],
   "source": [
    "file_name_list = []\n",
    "\n",
    "for i in range(len(file_list)):\n",
    "    file_name_list.append(file_list[i].replace(\".jpg\",\"\"))\n",
    "\n"
   ]
  },
  {
   "cell_type": "code",
   "execution_count": 52,
   "metadata": {},
   "outputs": [
    {
     "data": {
      "text/plain": [
       "'minji8'"
      ]
     },
     "execution_count": 52,
     "metadata": {},
     "output_type": "execute_result"
    }
   ],
   "source": [
    "file_name_list[31]\n"
   ]
  },
  {
   "cell_type": "code",
   "execution_count": 54,
   "metadata": {},
   "outputs": [],
   "source": [
    "image = cv2.imread('C:/Users/dgd56/anaconda/ee/photo/add/minji2.jpg')\n",
    "face_cascade = cv2.CascadeClassifier('C:/Users/dgd56/anaconda/haarcascade_frontalface_default.xml')\n",
    "gray = cv2.cvtColor(image, cv2.COLOR_BGR2GRAY)\n",
    "faces = face_cascade.detectMultiScale(gray, 1.3, 5)\n",
    "for (x,y,w,h) in faces:\n",
    "    cv2.rectangle(image, (x,y), (x+w, y+h), (255,0,0), 2)\n",
    "    cv2.imshow(\"face_recognition\", image)\n",
    "    cv2.waitKey(0)\n",
    "    cv2.destroyAllWindows()"
   ]
  },
  {
   "cell_type": "code",
   "execution_count": 55,
   "metadata": {},
   "outputs": [],
   "source": [
    "image = cv2.imread('C:/Users/dgd56/anaconda/ee/photo/add/minji2.jpg')\n",
    "face_cascade = cv2.CascadeClassifier('C:/Users/dgd56/anaconda/haarcascade_frontalface_default.xml')\n",
    "gray = cv2.cvtColor(image, cv2.COLOR_BGR2GRAY)\n",
    "faces = face_cascade.detectMultiScale(gray, 1.3, 5)\n",
    "for (x,y,w,h) in faces:\n",
    "    cv2.rectangle(image, (x,y), (x+w, y+h), (255,0,0), 2)\n",
    "    cropped = image[y: y+h, x: x+w]\n",
    "    resize = cv2.resize(cropped, (180,180))\n",
    "    cv2.imshow(\"crop&resize\", resize)\n",
    "    cv2.waitKey(0)\n",
    "    cv2.destroyAllWindows()"
   ]
  },
  {
   "cell_type": "code",
   "execution_count": 56,
   "metadata": {},
   "outputs": [],
   "source": [
    "def Cutting_face_save(image, name):\n",
    "    face_cascade = cv2.CascadeClassifier('C:/Users/dgd56/anaconda/haarcascade_frontalface_default.xml')\n",
    "    gray = cv2.cvtColor(image, cv2.COLOR_BGR2GRAY)\n",
    "    faces = face_cascade.detectMultiScale(gray, 1.3, 5)\n",
    "    for (x,y,w,h) in faces:\n",
    "        # cv2.rectangle(image, (x,y), (x+w, y+h), (255,0,0), 2)\n",
    "        cropped = image[y: y+h, x: x+w]\n",
    "        resize = cv2.resize(cropped, (180,180))\n",
    "        # cv2.imshow(\"crop&resize\", resize)\n",
    "        # cv2.waitKey(0)\n",
    "        # cv2.destroyAllWindows()\n",
    "\n",
    "        # 이미지 저장하기\n",
    "        cv2.imwrite(f\"C:/Users/dgd56/anaconda/ee/photo/add1/{name}.jpg\", resize)"
   ]
  },
  {
   "cell_type": "code",
   "execution_count": 57,
   "metadata": {},
   "outputs": [],
   "source": [
    "for name in file_name_list:\n",
    "    img = cv2.imread(\"C:/Users/dgd56/anaconda/ee/photo/add/\"+name+\".jpg\")\n",
    "    Cutting_face_save(img, name)\n",
    "\n",
    "#미리 파일 폴더를 만들면 잘 된다."
   ]
  }
 ],
 "metadata": {
  "kernelspec": {
   "display_name": "po",
   "language": "python",
   "name": "python3"
  },
  "language_info": {
   "codemirror_mode": {
    "name": "ipython",
    "version": 3
   },
   "file_extension": ".py",
   "mimetype": "text/x-python",
   "name": "python",
   "nbconvert_exporter": "python",
   "pygments_lexer": "ipython3",
   "version": "3.7.16"
  }
 },
 "nbformat": 4,
 "nbformat_minor": 2
}
